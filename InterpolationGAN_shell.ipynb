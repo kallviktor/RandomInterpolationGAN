{
 "cells": [
  {
   "cell_type": "code",
   "execution_count": 20,
   "metadata": {},
   "outputs": [],
   "source": [
    "#Load files\n",
    "    #Load datasets (MNIST, LINES, CelebA)\n",
    "    #Load GAN files (DCGAN, GAN, MHGAN?)\n",
    "    #Load interpolation files (linear, spherical, stochastic, stochastic+SMC)\n",
    "    #Load help function files (plotting, ?)\n",
    "#from ipynb.fs.full.testtt_file import testtt_func, works for .ipynb files\n",
    "#from test2_file import test2_func, forks for .py files"
   ]
  },
  {
   "cell_type": "code",
   "execution_count": null,
   "metadata": {},
   "outputs": [],
   "source": [
    "#Generate (train)/Load GAN Model"
   ]
  },
  {
   "cell_type": "code",
   "execution_count": null,
   "metadata": {},
   "outputs": [],
   "source": [
    "#Visualize GAN results\n",
    "    #Show 2D representation of latent space\n",
    "    #Show data in 2D latent space"
   ]
  },
  {
   "cell_type": "code",
   "execution_count": null,
   "metadata": {},
   "outputs": [],
   "source": [
    "#Run different interpolations"
   ]
  },
  {
   "cell_type": "code",
   "execution_count": null,
   "metadata": {},
   "outputs": [],
   "source": [
    "#Visualize interpolation results"
   ]
  }
 ],
 "metadata": {
  "kernelspec": {
   "display_name": "Python 3",
   "language": "python",
   "name": "python3"
  },
  "language_info": {
   "codemirror_mode": {
    "name": "ipython",
    "version": 3
   },
   "file_extension": ".py",
   "mimetype": "text/x-python",
   "name": "python",
   "nbconvert_exporter": "python",
   "pygments_lexer": "ipython3",
   "version": "3.8.0-final"
  }
 },
 "nbformat": 4,
 "nbformat_minor": 4
}